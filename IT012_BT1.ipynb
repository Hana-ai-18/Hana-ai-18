{
  "nbformat": 4,
  "nbformat_minor": 0,
  "metadata": {
    "colab": {
      "provenance": [],
      "authorship_tag": "ABX9TyOgye815/Ycdh4tsYNOX2IW",
      "include_colab_link": true
    },
    "kernelspec": {
      "name": "python3",
      "display_name": "Python 3"
    },
    "language_info": {
      "name": "python"
    }
  },
  "cells": [
    {
      "cell_type": "markdown",
      "metadata": {
        "id": "view-in-github",
        "colab_type": "text"
      },
      "source": [
        "<a href=\"https://colab.research.google.com/github/Hana-ai-18/Hana-ai-18/blob/main/IT012_BT1.ipynb\" target=\"_parent\"><img src=\"https://colab.research.google.com/assets/colab-badge.svg\" alt=\"Open In Colab\"/></a>"
      ]
    },
    {
      "cell_type": "markdown",
      "source": [
        "**`SINH VIÊN: NGUYỄN HỒNG GẤM`**  \n",
        "**`MSSV: 24520411`**"
      ],
      "metadata": {
        "id": "DG8dOi2faRAx"
      }
    },
    {
      "cell_type": "markdown",
      "source": [
        "**CHUYỂN ĐỔI CƠ SỐ TỪ HỆ 10 SANG HỆ NHỊ PHÂN, HỆ 16**  \n",
        "+ Số nguyên dương: Chia liên tiếp cho 2 rồi lấy phần dư.\n",
        "+ Số âm: Chuyển sang dạng bù hai (bit đảo rồi +1).\n",
        "+ Số thực: Chuyển phần nguyên như bình thường, phần thập phân nhân 2 liên tiếp."
      ],
      "metadata": {
        "id": "hOCxih2mP4f7"
      }
    },
    {
      "cell_type": "code",
      "execution_count": null,
      "metadata": {
        "id": "E8Ogr1yMPEXi"
      },
      "outputs": [],
      "source": [
        "# Chuyển đổi số nguyên từ hệ 10 sang hệ bất kỳ (2-16)\n",
        "def chuyen_tu_he_10(n, base):\n",
        "    if n == 0:\n",
        "        return \"0\"\n",
        "\n",
        "    digits = \"0123456789ABCDEF\"\n",
        "    is_negative = n < 0\n",
        "    n = abs(n)\n",
        "\n",
        "    result = \"\"\n",
        "    while n > 0:\n",
        "        result = digits[n % base] + result\n",
        "        n //= base"
      ]
    },
    {
      "cell_type": "code",
      "source": [
        "# Chuyển đổi phần thập phân của số thực từ hệ 10\n",
        "def thap_phan(fraction, base, precision=8):\n",
        "    digits = \"0123456789ABCDEF\"\n",
        "    result = \"\"\n",
        "    count = 0\n",
        "\n",
        "    while fraction > 0 and count < precision:\n",
        "        fraction *= base\n",
        "        digit = int(fraction)\n",
        "        result += digits[digit]\n",
        "        fraction -= digit\n",
        "        count += 1\n",
        "\n",
        "    return result"
      ],
      "metadata": {
        "id": "CU89bjmTSYya"
      },
      "execution_count": null,
      "outputs": []
    },
    {
      "cell_type": "code",
      "source": [
        "# Chuyển số âm sang dạng bù hai cho hệ 2 và hệ 16\n",
        "def chuyen_sang_bu_2(n, bits, base):\n",
        "    b2 = format(n & (2**bits - 1), f'0{bits}b')\n",
        "    if base == 2:\n",
        "        return b2\n",
        "    elif base == 16:\n",
        "        return format(int(b2, 2), 'X')\n"
      ],
      "metadata": {
        "id": "z9W-0TK5X2YI"
      },
      "execution_count": null,
      "outputs": []
    },
    {
      "cell_type": "code",
      "source": [
        "# Chuyển số thực từ hệ 10 sang hệ bất kỳ\n",
        "def so_thuc(num, base, precision=8, bits=8):\n",
        "    if '.' in str(num):\n",
        "        integer_part, fractional_part = map(float, str(num).split('.'))\n",
        "        integer_part = int(integer_part)\n",
        "        fractional_part = float(\"0.\" + str(int(fractional_part)))\n",
        "\n",
        "        if integer_part < 0 and base in [2, 8]:\n",
        "            binary_integer = chuyen_sang_bu_2(integer_part, bits, base)\n",
        "        else:\n",
        "            binary_integer = chuyen_tu_he_10(integer_part, base)\n",
        "\n",
        "        binary_fraction = thap_phan(fractional_part, base, precision)\n",
        "\n",
        "        return f\"{binary_integer}.{binary_fraction}\" if binary_fraction else binary_integer\n",
        "    else:\n",
        "        if int(num) < 0 and base in [2, 8]:\n",
        "            return chuyen_sang_bu_2(int(num), bits, base)\n",
        "        else:\n",
        "            return chuyen_tu_he_10(int(num), base)"
      ],
      "metadata": {
        "id": "kYxDxgXGScMC"
      },
      "execution_count": null,
      "outputs": []
    },
    {
      "cell_type": "code",
      "source": [
        "num = float(input(\"Nhập số hệ 10: \"))\n",
        "base = int(input(\"Nhập hệ cần chuyển (2 và 16): \"))\n",
        "\n",
        "print(f\"Số {num} trong hệ {base}: {so_thuc(num, base)}\")"
      ],
      "metadata": {
        "colab": {
          "base_uri": "https://localhost:8080/"
        },
        "id": "EFjDtzPeSdqc",
        "outputId": "0898b959-71b8-4e16-8283-23205082003d"
      },
      "execution_count": null,
      "outputs": [
        {
          "output_type": "stream",
          "name": "stdout",
          "text": [
            "Nhập số hệ 10: -45\n",
            "Nhập hệ cần chuyển (2 và 16): 2\n",
            "Số -45.0 trong hệ 2: 11010011\n"
          ]
        }
      ]
    },
    {
      "cell_type": "markdown",
      "source": [
        "**CHUYỂN ĐỔI TỪ HỆ NHỊ PHÂN, HỆ 16 SANG HỆ 10**  \n",
        "**`Note:`**   \n",
        "+ Hàm int(value, base) trong Python giúp chuyển đổi một chuỗi số trong hệ cơ số bất kỳ (base) về hệ thập phân (base 10).\n",
        "+ Cú pháp: `int(value, base)`\n",
        "    + value: Chuỗi số cần chuyển đổi.\n",
        "    + base: Hệ cơ số của số đó (từ 2 đến 36).\n"
      ],
      "metadata": {
        "id": "m8rH6FFVS0Tn"
      }
    },
    {
      "cell_type": "code",
      "source": [
        "# Chuyển từ hệ 2 sang hệ 10\n",
        "def binary_to_decimal(binary_str):\n",
        "    try:\n",
        "        return int(binary_str, 2)\n",
        "    except ValueError:\n",
        "        return \"Không phải số nhị phân hợp lệ!\""
      ],
      "metadata": {
        "id": "HjAMfPmcTHho"
      },
      "execution_count": null,
      "outputs": []
    },
    {
      "cell_type": "code",
      "source": [
        "# Chuyển đổi số hệ 16 sang hệ 10\n",
        "def hex_to_decimal(hex_str):\n",
        "    try:\n",
        "        return int(hex_str, 16)\n",
        "    except ValueError:\n",
        "        return \"Không phải số hex hợp lệ!\""
      ],
      "metadata": {
        "id": "TyJcrdjvT_Rp"
      },
      "execution_count": null,
      "outputs": []
    },
    {
      "cell_type": "code",
      "source": [
        "# Chọn hệ số nhập vào\n",
        "base = int(input(\"Nhập hệ số của số cần chuyển (2 hoặc 16): \"))\n",
        "\n",
        "if base == 2:\n",
        "    binary_input = input(\"Nhập số nhị phân: \")\n",
        "    print(\"Số hệ 10:\", binary_to_decimal(binary_input))\n",
        "elif base == 16:\n",
        "    hex_input = input(\"Nhập số hệ 16: \")\n",
        "    print(\"Số hệ 10:\", hex_to_decimal(hex_input))"
      ],
      "metadata": {
        "colab": {
          "base_uri": "https://localhost:8080/"
        },
        "id": "FrLrhXgrUJUv",
        "outputId": "f535f2dc-7f69-4b82-c8fd-9a3ae6689a73"
      },
      "execution_count": null,
      "outputs": [
        {
          "output_type": "stream",
          "name": "stdout",
          "text": [
            "Nhập hệ số của số cần chuyển (2 hoặc 16): 2\n",
            "Nhập số nhị phân: 10111101\n",
            "Số hệ 10: 189\n"
          ]
        }
      ]
    },
    {
      "cell_type": "markdown",
      "source": [
        "**CHUYỂN ĐỔI TỪ HỆ NHỊ PHÂN SANG HỆ 16**  \n",
        "***`Nguyên Tắc Chuyển Đổi:`***\n",
        "+ Nhóm từng 4 bit nhị phân (từ phải sang trái).\n",
        "+ Mỗi nhóm 4 bit tương ứng với 1 chữ số hex.\n",
        "+ Nếu số bit không chia hết cho 4, thêm 0 vào đầu cho đủ nhóm."
      ],
      "metadata": {
        "id": "PkxqUQ0qVEdS"
      }
    },
    {
      "cell_type": "code",
      "source": [
        "# Chuyển số nhị phân sang hệ 16\n",
        "def binary_to_hex(binary_str):\n",
        "    try:\n",
        "        return hex(int(binary_str, 2))[2:].upper()\n",
        "    except ValueError:\n",
        "        return \"Không phải số nhị phân hợp lệ!\"\n",
        "\n",
        "\n",
        "binary_input = input(\"Nhập số nhị phân: \")\n",
        "print(\"Số hệ 16:\", binary_to_hex(binary_input))\n"
      ],
      "metadata": {
        "id": "UYB48dGKVeH6"
      },
      "execution_count": null,
      "outputs": []
    }
  ]
}